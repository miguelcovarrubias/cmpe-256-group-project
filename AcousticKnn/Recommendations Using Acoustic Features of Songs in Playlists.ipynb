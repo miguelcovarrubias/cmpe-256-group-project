{
  "nbformat": 4,
  "nbformat_minor": 0,
  "metadata": {
    "kernelspec": {
      "display_name": "Python 3",
      "language": "python",
      "name": "python3"
    },
    "language_info": {
      "codemirror_mode": {
        "name": "ipython",
        "version": 3
      },
      "file_extension": ".py",
      "mimetype": "text/x-python",
      "name": "python",
      "nbconvert_exporter": "python",
      "pygments_lexer": "ipython3",
      "version": "3.7.4"
    },
    "colab": {
      "name": "Recommendations Using Acoustic Features of Songs in Playlists.ipynb",
      "version": "0.3.2",
      "provenance": []
    }
  },
  "cells": [
    {
      "cell_type": "code",
      "metadata": {
        "id": "50PQe8QjIdi4",
        "colab_type": "code",
        "colab": {}
      },
      "source": [
        "import pandas as pd"
      ],
      "execution_count": 0,
      "outputs": []
    },
    {
      "cell_type": "code",
      "metadata": {
        "id": "7JuaT-qhIdk7",
        "colab_type": "code",
        "colab": {}
      },
      "source": [
        "import json\n",
        "import pprint as pprint\n",
        "import numpy as np"
      ],
      "execution_count": 0,
      "outputs": []
    },
    {
      "cell_type": "code",
      "metadata": {
        "id": "2TRJaz9lIdlu",
        "colab_type": "code",
        "colab": {}
      },
      "source": [
        "with open('./slice.json', 'r') as f:\n",
        "    datastore = json.load(f)"
      ],
      "execution_count": 0,
      "outputs": []
    },
    {
      "cell_type": "code",
      "metadata": {
        "id": "Ai_cuQf1Idm4",
        "colab_type": "code",
        "colab": {}
      },
      "source": [
        "sample_playlists = datastore['playlists']"
      ],
      "execution_count": 0,
      "outputs": []
    },
    {
      "cell_type": "code",
      "metadata": {
        "id": "sPkmM_wWIdny",
        "colab_type": "code",
        "colab": {}
      },
      "source": [
        "processed_data = {}"
      ],
      "execution_count": 0,
      "outputs": []
    },
    {
      "cell_type": "code",
      "metadata": {
        "id": "F8YsGN5IIdoP",
        "colab_type": "code",
        "colab": {}
      },
      "source": [
        "for playlist in sample_playlists:\n",
        "    \n",
        "    cumulative_track_features = {}    \n",
        "    # go through each track and get the features\n",
        "    for track in playlist['tracks']:\n",
        "        \n",
        "        if track['track_features'] is None:\n",
        "            continue\n",
        "            \n",
        "        for feature in track['track_features']:\n",
        "\n",
        "            if feature in ['type', 'id', 'uri', 'track_href', 'analysis_url']:\n",
        "                continue # we skip these since they're non-numeric\n",
        "            \n",
        "            # if we haven't seen the feature, init a list\n",
        "            if not feature in cumulative_track_features:\n",
        "                cumulative_track_features[feature] = []\n",
        "            \n",
        "            cumulative_track_features[feature].append(track['track_features'][feature])\n",
        "    \n",
        "    if cumulative_track_features == {}:\n",
        "        continue # skip, no features found \n",
        "        \n",
        "    playlist_track_features = {}\n",
        "    for feature in cumulative_track_features:\n",
        "        playlist_track_features[feature] = sum(cumulative_track_features[feature])/len(cumulative_track_features[feature])\n",
        "    \n",
        "    processed_data[playlist['name']] = playlist_track_features"
      ],
      "execution_count": 0,
      "outputs": []
    },
    {
      "cell_type": "code",
      "metadata": {
        "id": "3ltv3s-XIdpK",
        "colab_type": "code",
        "colab": {
          "base_uri": "https://localhost:8080/",
          "height": 36
        },
        "outputId": "c87e8dbc-bf37-4464-d488-f41419ba16f1"
      },
      "source": [
        "feature_keys = ['danceability', 'energy', 'key', 'loudness', 'mode', 'speechiness', 'acousticness', 'instrumentalness', 'liveness', 'valence', 'tempo']\n",
        "playlist_names = []\n",
        "data_matrix = []\n",
        "for playlist in processed_data:\n",
        "    playlist_names.append(playlist)\n",
        "    row = []\n",
        "    data = processed_data[playlist]\n",
        "    for i in range(len(feature_keys)):\n",
        "        row.append(data[feature_keys[i]])\n",
        "    data_matrix.append(row)\n",
        "\n",
        "print(\"Created data_matrix\")"
      ],
      "execution_count": 22,
      "outputs": [
        {
          "output_type": "stream",
          "text": [
            "Created data_matrix\n"
          ],
          "name": "stdout"
        }
      ]
    },
    {
      "cell_type": "code",
      "metadata": {
        "id": "RKb6FUrSIdp9",
        "colab_type": "code",
        "colab": {}
      },
      "source": [
        "X = np.array(data_matrix)\n"
      ],
      "execution_count": 0,
      "outputs": []
    },
    {
      "cell_type": "code",
      "metadata": {
        "id": "xJRj829PIdqR",
        "colab_type": "code",
        "colab": {}
      },
      "source": [
        "from sklearn.neighbors import NearestNeighbors\n",
        "model_knn = NearestNeighbors(metric='cosine', algorithm='brute', n_neighbors=10, n_jobs=-1)"
      ],
      "execution_count": 0,
      "outputs": []
    },
    {
      "cell_type": "code",
      "metadata": {
        "id": "rpUnwgB_IdrJ",
        "colab_type": "code",
        "colab": {
          "base_uri": "https://localhost:8080/",
          "height": 73
        },
        "outputId": "c6a53a4d-9912-48a7-9177-632bfcb4a305"
      },
      "source": [
        "model_knn.fit(X)"
      ],
      "execution_count": 25,
      "outputs": [
        {
          "output_type": "execute_result",
          "data": {
            "text/plain": [
              "NearestNeighbors(algorithm='brute', leaf_size=30, metric='cosine',\n",
              "                 metric_params=None, n_jobs=-1, n_neighbors=10, p=2,\n",
              "                 radius=1.0)"
            ]
          },
          "metadata": {
            "tags": []
          },
          "execution_count": 25
        }
      ]
    },
    {
      "cell_type": "code",
      "metadata": {
        "id": "fMTN5jxqIdry",
        "colab_type": "code",
        "colab": {}
      },
      "source": [
        "distances, indices = model_knn.kneighbors(X)"
      ],
      "execution_count": 0,
      "outputs": []
    },
    {
      "cell_type": "code",
      "metadata": {
        "id": "gfvRKQGkIds5",
        "colab_type": "code",
        "colab": {
          "base_uri": "https://localhost:8080/",
          "height": 221
        },
        "outputId": "0d93f342-07c9-4dbe-a934-38e713a7e515"
      },
      "source": [
        "print(\"Similar Playlists for {}\".format(playlist_names[0]))\n",
        "indices_for_playlist_0_neighbors = indices[0]\n",
        "distances_for_playlist_0_neighbors = distances[0]\n",
        "for index in indices_for_playlist_0_neighbors:\n",
        "    print(\"Name: {}\".format(playlist_names[index]))"
      ],
      "execution_count": 27,
      "outputs": [
        {
          "output_type": "stream",
          "text": [
            "Similar Playlists for r/Techno | Top weekly posts\n",
            "Name: r/Techno | Top weekly posts\n",
            "Name: Broken & Experimental Techno\n",
            "Name: Pots n Pans\n",
            "Name: Top Trip Hop and Downtempo\n",
            "Name: r/CyberPunk_Music | Top weekly posts\n",
            "Name: Instrumental Psychedelic Stoner Rock\n",
            "Name: NIGHT DRIVES\n",
            "Name: Desert Hearts 2019\n",
            "Name: 2007-2010\n",
            "Name: DKFM Shoegaze Finds\n"
          ],
          "name": "stdout"
        }
      ]
    },
    {
      "cell_type": "code",
      "metadata": {
        "id": "coWFOVOBLJCX",
        "colab_type": "code",
        "colab": {
          "base_uri": "https://localhost:8080/",
          "height": 206
        },
        "outputId": "89d21ea2-2532-4869-9740-0b72ee0eef7a"
      },
      "source": [
        "import pandas as pd\n",
        "\n",
        "#Convert matrix to dataframe\n",
        "df = pd.DataFrame(data_matrix, index=playlist_names,columns = feature_keys)\n",
        "df.head()"
      ],
      "execution_count": 35,
      "outputs": [
        {
          "output_type": "execute_result",
          "data": {
            "text/html": [
              "<div>\n",
              "<style scoped>\n",
              "    .dataframe tbody tr th:only-of-type {\n",
              "        vertical-align: middle;\n",
              "    }\n",
              "\n",
              "    .dataframe tbody tr th {\n",
              "        vertical-align: top;\n",
              "    }\n",
              "\n",
              "    .dataframe thead th {\n",
              "        text-align: right;\n",
              "    }\n",
              "</style>\n",
              "<table border=\"1\" class=\"dataframe\">\n",
              "  <thead>\n",
              "    <tr style=\"text-align: right;\">\n",
              "      <th></th>\n",
              "      <th>danceability</th>\n",
              "      <th>energy</th>\n",
              "      <th>key</th>\n",
              "      <th>loudness</th>\n",
              "      <th>mode</th>\n",
              "      <th>speechiness</th>\n",
              "      <th>acousticness</th>\n",
              "      <th>instrumentalness</th>\n",
              "      <th>liveness</th>\n",
              "      <th>valence</th>\n",
              "      <th>tempo</th>\n",
              "    </tr>\n",
              "  </thead>\n",
              "  <tbody>\n",
              "    <tr>\n",
              "      <th>r/Techno | Top weekly posts</th>\n",
              "      <td>0.646680</td>\n",
              "      <td>0.794140</td>\n",
              "      <td>5.420000</td>\n",
              "      <td>-9.966580</td>\n",
              "      <td>0.560000</td>\n",
              "      <td>0.057056</td>\n",
              "      <td>0.052438</td>\n",
              "      <td>0.848076</td>\n",
              "      <td>0.164660</td>\n",
              "      <td>0.285762</td>\n",
              "      <td>131.447960</td>\n",
              "    </tr>\n",
              "    <tr>\n",
              "      <th>r/Frisson | Top weekly posts</th>\n",
              "      <td>0.496540</td>\n",
              "      <td>0.539598</td>\n",
              "      <td>5.000000</td>\n",
              "      <td>-9.014460</td>\n",
              "      <td>0.620000</td>\n",
              "      <td>0.071046</td>\n",
              "      <td>0.324839</td>\n",
              "      <td>0.250639</td>\n",
              "      <td>0.204546</td>\n",
              "      <td>0.292772</td>\n",
              "      <td>114.624920</td>\n",
              "    </tr>\n",
              "    <tr>\n",
              "      <th>r/ShoeGaze | Top weekly posts</th>\n",
              "      <td>0.379600</td>\n",
              "      <td>0.674000</td>\n",
              "      <td>4.380000</td>\n",
              "      <td>-8.430580</td>\n",
              "      <td>0.800000</td>\n",
              "      <td>0.039974</td>\n",
              "      <td>0.139148</td>\n",
              "      <td>0.561841</td>\n",
              "      <td>0.206018</td>\n",
              "      <td>0.285240</td>\n",
              "      <td>130.587240</td>\n",
              "    </tr>\n",
              "    <tr>\n",
              "      <th>Noodle's Top Korean Standouts 2019</th>\n",
              "      <td>0.619658</td>\n",
              "      <td>0.657451</td>\n",
              "      <td>6.005435</td>\n",
              "      <td>-5.038103</td>\n",
              "      <td>0.548913</td>\n",
              "      <td>0.073001</td>\n",
              "      <td>0.365478</td>\n",
              "      <td>0.013186</td>\n",
              "      <td>0.190513</td>\n",
              "      <td>0.498738</td>\n",
              "      <td>122.132625</td>\n",
              "    </tr>\n",
              "    <tr>\n",
              "      <th>r/DeathCore | Top weekly posts</th>\n",
              "      <td>0.355940</td>\n",
              "      <td>0.943940</td>\n",
              "      <td>6.180000</td>\n",
              "      <td>-4.688440</td>\n",
              "      <td>0.540000</td>\n",
              "      <td>0.145508</td>\n",
              "      <td>0.001172</td>\n",
              "      <td>0.315881</td>\n",
              "      <td>0.256538</td>\n",
              "      <td>0.129884</td>\n",
              "      <td>124.276280</td>\n",
              "    </tr>\n",
              "  </tbody>\n",
              "</table>\n",
              "</div>"
            ],
            "text/plain": [
              "                                    danceability  ...       tempo\n",
              "r/Techno | Top weekly posts             0.646680  ...  131.447960\n",
              "r/Frisson | Top weekly posts            0.496540  ...  114.624920\n",
              "r/ShoeGaze | Top weekly posts           0.379600  ...  130.587240\n",
              "Noodle's Top Korean Standouts 2019      0.619658  ...  122.132625\n",
              "r/DeathCore | Top weekly posts          0.355940  ...  124.276280\n",
              "\n",
              "[5 rows x 11 columns]"
            ]
          },
          "metadata": {
            "tags": []
          },
          "execution_count": 35
        }
      ]
    },
    {
      "cell_type": "code",
      "metadata": {
        "id": "p5Prwa1XM8mj",
        "colab_type": "code",
        "colab": {
          "base_uri": "https://localhost:8080/",
          "height": 206
        },
        "outputId": "1f0e174b-2c7a-42d5-fd3d-9bbbefa682d9"
      },
      "source": [
        "#We need to scale each feature from 0-1, else while calculating neighbours one dimension will contribute more distance than others. \n",
        "#Eg. mode will contribute 0.1 to distance, while tempo might contribute 20.\n",
        "from sklearn.preprocessing import MinMaxScaler\n",
        "tmp = MinMaxScaler().fit_transform(df)\n",
        "df_scaled = pd.DataFrame(tmp, index=playlist_names,columns = feature_keys)\n",
        "df_scaled.head()"
      ],
      "execution_count": 36,
      "outputs": [
        {
          "output_type": "execute_result",
          "data": {
            "text/html": [
              "<div>\n",
              "<style scoped>\n",
              "    .dataframe tbody tr th:only-of-type {\n",
              "        vertical-align: middle;\n",
              "    }\n",
              "\n",
              "    .dataframe tbody tr th {\n",
              "        vertical-align: top;\n",
              "    }\n",
              "\n",
              "    .dataframe thead th {\n",
              "        text-align: right;\n",
              "    }\n",
              "</style>\n",
              "<table border=\"1\" class=\"dataframe\">\n",
              "  <thead>\n",
              "    <tr style=\"text-align: right;\">\n",
              "      <th></th>\n",
              "      <th>danceability</th>\n",
              "      <th>energy</th>\n",
              "      <th>key</th>\n",
              "      <th>loudness</th>\n",
              "      <th>mode</th>\n",
              "      <th>speechiness</th>\n",
              "      <th>acousticness</th>\n",
              "      <th>instrumentalness</th>\n",
              "      <th>liveness</th>\n",
              "      <th>valence</th>\n",
              "      <th>tempo</th>\n",
              "    </tr>\n",
              "  </thead>\n",
              "  <tbody>\n",
              "    <tr>\n",
              "      <th>r/Techno | Top weekly posts</th>\n",
              "      <td>0.721064</td>\n",
              "      <td>0.789753</td>\n",
              "      <td>0.589333</td>\n",
              "      <td>0.729750</td>\n",
              "      <td>0.497143</td>\n",
              "      <td>0.031624</td>\n",
              "      <td>0.053680</td>\n",
              "      <td>0.925847</td>\n",
              "      <td>0.106990</td>\n",
              "      <td>0.271925</td>\n",
              "      <td>0.613814</td>\n",
              "    </tr>\n",
              "    <tr>\n",
              "      <th>r/Frisson | Top weekly posts</th>\n",
              "      <td>0.522396</td>\n",
              "      <td>0.507011</td>\n",
              "      <td>0.533333</td>\n",
              "      <td>0.761431</td>\n",
              "      <td>0.565714</td>\n",
              "      <td>0.048465</td>\n",
              "      <td>0.332881</td>\n",
              "      <td>0.273623</td>\n",
              "      <td>0.158004</td>\n",
              "      <td>0.279918</td>\n",
              "      <td>0.452684</td>\n",
              "    </tr>\n",
              "    <tr>\n",
              "      <th>r/ShoeGaze | Top weekly posts</th>\n",
              "      <td>0.367658</td>\n",
              "      <td>0.656303</td>\n",
              "      <td>0.450667</td>\n",
              "      <td>0.780859</td>\n",
              "      <td>0.771429</td>\n",
              "      <td>0.011061</td>\n",
              "      <td>0.142554</td>\n",
              "      <td>0.613363</td>\n",
              "      <td>0.159886</td>\n",
              "      <td>0.271329</td>\n",
              "      <td>0.605570</td>\n",
              "    </tr>\n",
              "    <tr>\n",
              "      <th>Noodle's Top Korean Standouts 2019</th>\n",
              "      <td>0.685308</td>\n",
              "      <td>0.637921</td>\n",
              "      <td>0.667391</td>\n",
              "      <td>0.893741</td>\n",
              "      <td>0.484472</td>\n",
              "      <td>0.050818</td>\n",
              "      <td>0.374534</td>\n",
              "      <td>0.014395</td>\n",
              "      <td>0.140056</td>\n",
              "      <td>0.514787</td>\n",
              "      <td>0.524593</td>\n",
              "    </tr>\n",
              "    <tr>\n",
              "      <th>r/DeathCore | Top weekly posts</th>\n",
              "      <td>0.336350</td>\n",
              "      <td>0.956150</td>\n",
              "      <td>0.690667</td>\n",
              "      <td>0.905376</td>\n",
              "      <td>0.474286</td>\n",
              "      <td>0.138100</td>\n",
              "      <td>0.001134</td>\n",
              "      <td>0.344849</td>\n",
              "      <td>0.224502</td>\n",
              "      <td>0.094173</td>\n",
              "      <td>0.545124</td>\n",
              "    </tr>\n",
              "  </tbody>\n",
              "</table>\n",
              "</div>"
            ],
            "text/plain": [
              "                                    danceability    energy  ...   valence     tempo\n",
              "r/Techno | Top weekly posts             0.721064  0.789753  ...  0.271925  0.613814\n",
              "r/Frisson | Top weekly posts            0.522396  0.507011  ...  0.279918  0.452684\n",
              "r/ShoeGaze | Top weekly posts           0.367658  0.656303  ...  0.271329  0.605570\n",
              "Noodle's Top Korean Standouts 2019      0.685308  0.637921  ...  0.514787  0.524593\n",
              "r/DeathCore | Top weekly posts          0.336350  0.956150  ...  0.094173  0.545124\n",
              "\n",
              "[5 rows x 11 columns]"
            ]
          },
          "metadata": {
            "tags": []
          },
          "execution_count": 36
        }
      ]
    },
    {
      "cell_type": "code",
      "metadata": {
        "id": "_tfmeBRHLWzX",
        "colab_type": "code",
        "colab": {
          "base_uri": "https://localhost:8080/",
          "height": 73
        },
        "outputId": "1c3c7ac7-796a-4f66-c17e-57be90ac3592"
      },
      "source": [
        "from sklearn.neighbors import NearestNeighbors\n",
        "knn = NearestNeighbors(metric='cosine', algorithm='brute', n_neighbors=10, n_jobs=-1)\n",
        "knn.fit(df)"
      ],
      "execution_count": 37,
      "outputs": [
        {
          "output_type": "execute_result",
          "data": {
            "text/plain": [
              "NearestNeighbors(algorithm='brute', leaf_size=30, metric='cosine',\n",
              "                 metric_params=None, n_jobs=-1, n_neighbors=10, p=2,\n",
              "                 radius=1.0)"
            ]
          },
          "metadata": {
            "tags": []
          },
          "execution_count": 37
        }
      ]
    },
    {
      "cell_type": "code",
      "metadata": {
        "id": "KDitERQtPF2u",
        "colab_type": "code",
        "colab": {
          "base_uri": "https://localhost:8080/",
          "height": 202
        },
        "outputId": "01f39cc1-c6bd-49cd-c49a-e87bd0343918"
      },
      "source": [
        "testPlaylist = df.iloc[0]\n",
        "#testPlaylist = df.loc['r/Techno | Top weekly posts']\n",
        "distances, indices = knn.kneighbors([testPlaylist])\n",
        "\n",
        "print(\"Similar Playlists for {}\".format(testPlaylist.name))\n",
        "for index in indices[0][1:]:\n",
        "  print(\"Name : {}\".format(df.iloc[index].name))"
      ],
      "execution_count": 55,
      "outputs": [
        {
          "output_type": "stream",
          "text": [
            "Similar Playlists for r/Techno | Top weekly posts\n",
            "Name : Broken & Experimental Techno\n",
            "Name : Pots n Pans\n",
            "Name : Top Trip Hop and Downtempo\n",
            "Name : r/CyberPunk_Music | Top weekly posts\n",
            "Name : Instrumental Psychedelic Stoner Rock\n",
            "Name : NIGHT DRIVES\n",
            "Name : Desert Hearts 2019\n",
            "Name : 2007-2010\n",
            "Name : DKFM Shoegaze Finds\n"
          ],
          "name": "stdout"
        }
      ]
    },
    {
      "cell_type": "code",
      "metadata": {
        "id": "hcsCJBDtTrMo",
        "colab_type": "code",
        "colab": {}
      },
      "source": [
        ""
      ],
      "execution_count": 0,
      "outputs": []
    }
  ]
}