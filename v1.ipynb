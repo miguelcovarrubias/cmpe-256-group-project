{
 "cells": [
  {
   "cell_type": "markdown",
   "metadata": {},
   "source": [
    "### Read the dataset "
   ]
  },
  {
   "cell_type": "code",
   "execution_count": 129,
   "metadata": {},
   "outputs": [
    {
     "name": "stdout",
     "output_type": "stream",
     "text": [
      "{'generated_on': '2017-12-03 08:41:42.057563', 'slice': '3000-3999', 'version': 'v1'}\n"
     ]
    }
   ],
   "source": [
    "import json\n",
    "\n",
    "# read file\n",
    "with open('./data/mpd.slice.3000-3999.json', 'r') as myfile:\n",
    "    data=myfile.read()\n",
    "\n",
    "# parse file\n",
    "dat = json.loads(data)\n",
    "\n",
    "# show values\n",
    "print(dat['info'])"
   ]
  },
  {
   "cell_type": "code",
   "execution_count": 130,
   "metadata": {},
   "outputs": [],
   "source": [
    "class Playlist:\n",
    "    def __init__(self, name, pid):\n",
    "        self.name = name\n",
    "        self.pid = pid\n",
    "    \n",
    "    def getName(self):\n",
    "        return self.name\n",
    "    \n",
    "    def getPid(self):\n",
    "        return self.pid\n",
    "    \n",
    "    def getKey(self):\n",
    "        return self.name + \"_\" + str(self.pid)\n",
    "    \n",
    "    def __key(self):\n",
    "        return (self.name, self.pid)\n",
    "\n",
    "    def __hash__(self):\n",
    "        return hash(self.__key())\n",
    "    \n",
    "    def __eq__(self, other):\n",
    "        if isinstance(other, Playlist):\n",
    "            return self.__key() == other.__key()\n",
    "        return False"
   ]
  },
  {
   "cell_type": "markdown",
   "metadata": {},
   "source": [
    "### (Input) Pick a playlist as the user playlist from the dataset"
   ]
  },
  {
   "cell_type": "code",
   "execution_count": 131,
   "metadata": {},
   "outputs": [
    {
     "name": "stdout",
     "output_type": "stream",
     "text": [
      "User playlist name: country_3025. Number of songs in playlist: 75\n"
     ]
    }
   ],
   "source": [
    "userPlaylistIndex = 25 # change index to pick a different playlist \n",
    "\n",
    "# using a playlist that already exists as the user playlist\n",
    "#userPlaylist = dat['playlists'][userPlaylistIndex]\n",
    "userPlaylist = Playlist(dat['playlists'][userPlaylistIndex]['name'], dat['playlists'][userPlaylistIndex]['pid'])\n",
    "\n",
    "print(\"User playlist name: %s. Number of songs in playlist: %d\" % (userPlaylist.getKey(), dat['playlists'][userPlaylistIndex]['num_tracks']))"
   ]
  },
  {
   "cell_type": "code",
   "execution_count": 132,
   "metadata": {},
   "outputs": [],
   "source": [
    "from scipy.stats.stats import pearsonr\n",
    "import operator\n",
    "\n",
    "def getSongsListFromPlaylistIndex(userPlaylistIndex, data):\n",
    "    userPlaylist = data['playlists'][userPlaylistIndex]\n",
    "    # store in a list the number of songs of the user playlist\n",
    "    userPlaylistTrackIds = []\n",
    "    for track in userPlaylist['tracks']:\n",
    "        userPlaylistTrackIds.append(track['track_uri'])\n",
    "        \n",
    "    return userPlaylistTrackIds\n",
    "\n",
    "def getPlaylistKeyFromIndex(userPlaylistIndex, data):\n",
    "    pList = data['playlists'][userPlaylistIndex]\n",
    "    \n",
    "    return Playlist(pList['name'], pList['pid']).getKey()\n",
    "\n",
    "def getTopPlaylistsWithSongsInCommon(userPlaylistIndex, topN, data):\n",
    "    \n",
    "    userPlaylistSongList = getSongsListFromPlaylistIndex(userPlaylistIndex, data)\n",
    "    userPlaylistKey = getPlaylistKeyFromIndex(userPlaylistIndex, data)\n",
    "    \n",
    "    # how many songs a playlist has in common to the user playlist \n",
    "    playlistToSongsInCommon = {}\n",
    "\n",
    "    for playlist in data['playlists']:\n",
    "        playlistKey = Playlist(playlist['name'], str(playlist['pid']))\n",
    "        if userPlaylistKey == playlistKey:\n",
    "            continue #skip the user playlist\n",
    "        for track in playlist['tracks']:\n",
    "            if track['track_uri'] in userPlaylistSongList:\n",
    "                if playlistKey in playlistToSongsInCommon:\n",
    "                    playlistToSongsInCommon[playlistKey] = playlistToSongsInCommon[playlistKey] + 1\n",
    "                else:\n",
    "                     playlistToSongsInCommon[playlistKey] = 1        \n",
    "            \n",
    "    sorted_x = sorted(playlistToSongsInCommon.items(), key=operator.itemgetter(1), reverse=True)[:topN]\n",
    "    \n",
    "    if len(sorted_x) == 0:\n",
    "        print(\"Unable to find playlist with songs in common.\")\n",
    "    elif len(sorted_x) < topN :\n",
    "        print(\"Only able to find %d common playlists. Returning %d.\" % (len(sorted_x), len(sorted_x)))\n",
    "        \n",
    "    return sorted_x\n"
   ]
  },
  {
   "cell_type": "markdown",
   "metadata": {},
   "source": [
    "### (Recommendation 1) \n",
    "### Top playlists based on similar songs in user playlist"
   ]
  },
  {
   "cell_type": "code",
   "execution_count": 133,
   "metadata": {},
   "outputs": [
    {
     "name": "stdout",
     "output_type": "stream",
     "text": [
      "User playlist name: country_3025. Number of songs in playlist: 75\n",
      "\n",
      "Name: country_3025 with 75 common songs.\n",
      "Name: Country_3626 with 27 common songs.\n",
      "Name: country_3672 with 26 common songs.\n",
      "Name: Summer 17_3134 with 25 common songs.\n",
      "Name: Country_3342 with 24 common songs.\n",
      "Name: country _3688 with 24 common songs.\n",
      "Name: Country _3530 with 20 common songs.\n",
      "Name: country_3089 with 19 common songs.\n",
      "Name: Country?_3927 with 19 common songs.\n",
      "Name: Country_3313 with 18 common songs.\n"
     ]
    }
   ],
   "source": [
    "print(\"User playlist name: %s. Number of songs in playlist: %d\" % (userPlaylist.getKey(), dat['playlists'][userPlaylistIndex]['num_tracks']))\n",
    "print()\n",
    "topN = 10\n",
    "for pList in getTopPlaylistsWithSongsInCommon(userPlaylistIndex, topN, dat):\n",
    "    print(\"Name: %s with %d common songs.\" % (pList[0].getKey(), pList[1]))"
   ]
  },
  {
   "cell_type": "markdown",
   "metadata": {},
   "source": [
    "### (Recommendation 2)\n",
    "### Use the list of songs from the top playlists in \"Recommnedation 1\" to discover new playlists.  "
   ]
  },
  {
   "cell_type": "code",
   "execution_count": 134,
   "metadata": {},
   "outputs": [],
   "source": [
    "def getTopPlaylistsFromSongsList(listOfSongs, topN, data):    \n",
    "    \n",
    "    # how many songs a playlist has in common to the user playlist \n",
    "    playlistToSongsInCommon = {}\n",
    "\n",
    "    for playlist in data['playlists']:\n",
    "        playlistKey = Playlist(playlist['name'], str(playlist['pid']))\n",
    "        for track in playlist['tracks']:\n",
    "            if track['track_uri'] in listOfSongs:\n",
    "                if playlistKey in playlistToSongsInCommon:\n",
    "                    playlistToSongsInCommon[playlistKey] = playlistToSongsInCommon[playlistKey] + 1\n",
    "                else:\n",
    "                     playlistToSongsInCommon[playlistKey] = 1        \n",
    "            \n",
    "    sorted_x = sorted(playlistToSongsInCommon.items(), key=operator.itemgetter(1), reverse=True)[:topN]\n",
    "    \n",
    "    if len(sorted_x) == 0:\n",
    "        print(\"Unable to find playlist with songs in common.\")\n",
    "    elif len(sorted_x) < topN :\n",
    "        print(\"Only able to find %d common playlists. Returning %d.\" % (len(sorted_x), len(sorted_x)))\n",
    "        \n",
    "    return sorted_x"
   ]
  },
  {
   "cell_type": "code",
   "execution_count": 135,
   "metadata": {},
   "outputs": [],
   "source": [
    "topN = 3\n",
    "listOfSongsFromUserPlaylist = getSongsListFromPlaylistIndex(userPlaylistIndex, dat)\n",
    "listOfSongsFromTopPlaylists = set()\n",
    "topPlaylists = []\n",
    "for pList in getTopPlaylistsWithSongsInCommon(userPlaylistIndex, topN, dat):\n",
    "    topPlaylists.append(pList[0])\n",
    "\n",
    "for playlist in dat['playlists']:\n",
    "    playlistKey = Playlist(playlist['name'], str(playlist['pid']))\n",
    "    if playlistKey not in topPlaylists:\n",
    "         continue #skip the user playlist\n",
    "    for track in playlist['tracks']:\n",
    "          if track['track_uri'] not in listOfSongsFromUserPlaylist:\n",
    "                listOfSongsFromTopPlaylists.add(track['track_uri'])\n",
    "    "
   ]
  },
  {
   "cell_type": "code",
   "execution_count": 137,
   "metadata": {},
   "outputs": [
    {
     "name": "stdout",
     "output_type": "stream",
     "text": [
      "Songs list size 328\n",
      "Name: Country_3342 with 103 common songs.\n",
      "Name: Country?_3927 with 97 common songs.\n",
      "Name: Country_3810 with 89 common songs.\n",
      "Name: Country _3530 with 88 common songs.\n",
      "Name: country lovin _3497 with 70 common songs.\n",
      "Name: country_3248 with 69 common songs.\n",
      "Name: country_3089 with 68 common songs.\n",
      "Name: country _3688 with 67 common songs.\n"
     ]
    }
   ],
   "source": [
    "topN = 10\n",
    "print(\"Songs list size %d\" % len(listOfSongsFromTopPlaylists))\n",
    "for pList in getTopPlaylistsFromSongsList(listOfSongsFromTopPlaylists, topN, dat):\n",
    "    if pList[0] not in topPlaylists and pList != userPlaylist:\n",
    "        print(\"Name: %s with %d common songs.\" % (pList[0].getKey(), pList[1]))"
   ]
  }
 ],
 "metadata": {
  "kernelspec": {
   "display_name": "Python 3",
   "language": "python",
   "name": "python3"
  },
  "language_info": {
   "codemirror_mode": {
    "name": "ipython",
    "version": 3
   },
   "file_extension": ".py",
   "mimetype": "text/x-python",
   "name": "python",
   "nbconvert_exporter": "python",
   "pygments_lexer": "ipython3",
   "version": "3.7.3"
  }
 },
 "nbformat": 4,
 "nbformat_minor": 2
}
