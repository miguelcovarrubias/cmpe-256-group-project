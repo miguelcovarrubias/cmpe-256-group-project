{
 "cells": [
  {
   "cell_type": "markdown",
   "metadata": {
    "colab_type": "text",
    "id": "view-in-github"
   },
   "source": [
    "<a href=\"https://colab.research.google.com/github/miguelcovarrubias/cmpe-256-group-project/blob/master/collect_data.ipynb\" target=\"_parent\"><img src=\"https://colab.research.google.com/assets/colab-badge.svg\" alt=\"Open In Colab\"/></a>"
   ]
  },
  {
   "cell_type": "code",
   "execution_count": 1,
   "metadata": {
    "colab": {},
    "colab_type": "code",
    "id": "im9xuAYZUqp3"
   },
   "outputs": [],
   "source": [
    "from spotipy import Spotify\n",
    "from spotipy.oauth2 import SpotifyClientCredentials\n",
    "from itertools import zip_longest\n",
    "import pprint #for debug\n",
    "import json\n",
    "import datetime\n",
    "from tqdm import tqdm\n",
    "\n",
    "class cmpe_spotify(Spotify):\n",
    "    def __init__(self, cliendId, clientSecret):\n",
    "        client_credentials_manager = SpotifyClientCredentials(clientId, clientSecret)\n",
    "        Spotify.__init__(self, client_credentials_manager=client_credentials_manager)\n",
    "\n",
    "    def urlGetPlaylist(self, url):\n",
    "        playlistId = url.split('/')[-1]\n",
    "        try : \n",
    "            playlist = self._get(\"playlists/%s\" % playlistId)\n",
    "        except Exception:\n",
    "            playlist = False\n",
    "        return playlist\n",
    "    \n",
    "    #Use as : sp.userGetPlaylists('spotify')\n",
    "    #Also use : Indiemono, Soundplate, Spingrey, Simon Field, Soave, Daily Playlists\n",
    "    def userGetPlaylists(self, user):\n",
    "        playlists = self.user_playlists(user)\n",
    "        d_playlist = []\n",
    "        while playlists:\n",
    "          for i, playlist in enumerate(playlists['items']):\n",
    "            d_playlist.append({\n",
    "                'pid' : i + playlists['offset'],\n",
    "                'name' : playlist['name'],\n",
    "                'uri' : playlist['uri']\n",
    "            })\n",
    "          if playlists['next']:\n",
    "            playlists = sp.next(playlists)\n",
    "          else:\n",
    "            playlists = None\n",
    "\n",
    "            return d_playlist\n",
    "    \n",
    "    #Ref : https://spotipy.readthedocs.io/en/latest/#api-reference\n",
    "    #playlist and tracks return as paging object, have to use while and next.\n",
    "    def playlistGetTracks(self, playlist):\n",
    "        tracks = playlist['tracks']\n",
    "        d_tracks = []\n",
    "        while tracks:\n",
    "          for i, item in enumerate(tracks['items']):\n",
    "            track = item['track']\n",
    "            #Filter out local (saved on disk tracks) their URI is spotify.local\n",
    "            if track and track['uri'].split(':')[1]!='local':\n",
    "              d_tracks.append({ 'pos' : i + tracks['offset'],\n",
    "                                'artist_name' : track['artists'][0]['name'],\n",
    "                                'track_uri' : track['uri'],\n",
    "                                'artist_uri' : track['uri'],\n",
    "                                'track_name' : track['name'], \n",
    "                                'album_uri': track['album']['uri'], \n",
    "                                'album_name': track['album']['name'],\n",
    "                                #'track_features' : self.audio_features([track['uri']]),\n",
    "                                #Audio analysis is too detailed and takes long time.\n",
    "                                #'track_analysis' : self.audio_analysis(track['uri'])\n",
    "                              })\n",
    "          if tracks['next']:\n",
    "            tracks = self.next(tracks)\n",
    "          else:\n",
    "            tracks = None\n",
    "        #Get audio_features seperately, because we can send 100 track_ids in one Web API call.\n",
    "        #Ref: https://stackoverflow.com/questions/434287/what-is-the-most-pythonic-way-to-iterate-over-a-list-in-chunks?page=1&tab=votes#tab-top\n",
    "        def grouper(iterable, n, fillvalue=None):\n",
    "            args = [iter(iterable)] * n\n",
    "            return zip_longest(*args, fillvalue=fillvalue)\n",
    "        audio_features = []\n",
    "        for item in grouper(d_tracks, 100, False):\n",
    "            tid = filter(lambda x: x, item)\n",
    "            tid = [t['track_uri'] for t in tid]\n",
    "            audio_features.extend(self.audio_features(tid))\n",
    "        for track, features in zip(d_tracks, audio_features):\n",
    "            track.update({'track_features' : features})\n",
    "        #End of audio_features\n",
    "        return d_tracks\n",
    "\n",
    "    #sp.playlistGetInfo(playlistUrl, 1)\n",
    "    def playlistGetInfo(self, url, pid):\n",
    "        playlist = self.urlGetPlaylist(url)\n",
    "        if playlist:\n",
    "            trackInfo = self.playlistGetTracks(playlist)\n",
    "            return {\n",
    "                'name': playlist['name'],\n",
    "                'playlist_uri' : playlist['uri'],\n",
    "                'collaborative': playlist['collaborative'], \n",
    "                'pid' : pid, \n",
    "                'num_tracks': len(trackInfo), \n",
    "                'num_followers': playlist['followers']['total'], \n",
    "                'tracks': trackInfo,\n",
    "            }\n",
    "        else:\n",
    "            return False\n",
    " \n",
    "    def generatePlaylistDetails(self, file):\n",
    "        data = {\n",
    "            'info' : {\n",
    "                \"generated_on\": datetime.datetime.now().isoformat() , \n",
    "                \"slice\": file, \n",
    "                \"version\": \"v1\"\n",
    "            },\n",
    "            'playlists' : []\n",
    "        }\n",
    "        with open(file, 'r') as fh:\n",
    "            for i, line in enumerate(tqdm(fh)):\n",
    "                playlistUrl = line.strip('\\n') \n",
    "                playlist = self.playlistGetInfo(playlistUrl, i)\n",
    "                if playlist:\n",
    "                    data['playlists'].append(playlist)\n",
    "\n",
    "        with open(file + '.json', 'w') as fw:\n",
    "            json.dump(data, fw, indent=4, sort_keys=False)\n",
    "        return True"
   ]
  },
  {
   "cell_type": "code",
   "execution_count": 2,
   "metadata": {
    "scrolled": true
   },
   "outputs": [
    {
     "name": "stderr",
     "output_type": "stream",
     "text": [
      "1000it [25:58,  5.76s/it]\n"
     ]
    },
    {
     "data": {
      "text/plain": [
       "True"
      ]
     },
     "execution_count": 2,
     "metadata": {},
     "output_type": "execute_result"
    }
   ],
   "source": [
    "#Get your clientId and clientSecret from https://developer.spotify.com/dashboard/applications\n",
    "#Log in using spotify.\n",
    "clientId = 'ef87ffe4b265477e870bf980e3160904'\n",
    "clientSecret = 'a381a08c0f264fcaa2a76714029e4fbd'\n",
    "\n",
    "#playlistUrl = 'https://open.spotify.com/playlist/2Q1KwZ1X3XqZCPKU6PvxNJ?si=QGJhh_YhRd-FtyX6HX1bag'\n",
    "#playlistUrl = 'https://open.spotify.com/playlist/72yfQZ3IibgJfmBdGLxWM5'\n",
    "sp = cmpe_spotify(clientId, clientSecret)\n",
    "#sp.playlistGetInfo(playlistUrl, 0)\n",
    "sp.generatePlaylistDetails('reddit_slice0-999.txt')\n"
   ]
  }
 ],
 "metadata": {
  "colab": {
   "include_colab_link": true,
   "name": "collect_data.ipynb",
   "provenance": [],
   "version": "0.3.2"
  },
  "kernelspec": {
   "display_name": "Python 3",
   "language": "python",
   "name": "python3"
  },
  "language_info": {
   "codemirror_mode": {
    "name": "ipython",
    "version": 3
   },
   "file_extension": ".py",
   "mimetype": "text/x-python",
   "name": "python",
   "nbconvert_exporter": "python",
   "pygments_lexer": "ipython3",
   "version": "3.6.8"
  }
 },
 "nbformat": 4,
 "nbformat_minor": 1
}
